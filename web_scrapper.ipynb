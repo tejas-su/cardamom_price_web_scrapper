{
 "cells": [
  {
   "cell_type": "code",
   "execution_count": 1,
   "metadata": {},
   "outputs": [],
   "source": [
    "import csv\n",
    "from bs4 import BeautifulSoup\n",
    "import requests"
   ]
  },
  {
   "cell_type": "code",
   "execution_count": 2,
   "metadata": {},
   "outputs": [
    {
     "name": "stdout",
     "output_type": "stream",
     "text": [
      "Large cardamom data scraped successfully and saved to large_cardamom_prices.csv\n",
      "Small cardamom data scraped successfully and saved to small_cardamom_prices.csv\n"
     ]
    }
   ],
   "source": [
    "# Define the URL to scrape\n",
    "url = \"https://www.indianspices.com/marketing/price/domestic/daily-price?v=archive&category=small\"  # Replace with the actual URL\n",
    "\n",
    "# Send a GET request to the URL\n",
    "response = requests.get(url)\n",
    "\n",
    "# Check for successful response\n",
    "if response.status_code == 200:\n",
    "    # Parse the HTML content\n",
    "    soup = BeautifulSoup(response.content, 'html.parser')\n",
    "\n",
    "    # Extract table data for large cardamom\n",
    "    large_cardamom_data = []\n",
    "    for table_row in soup.find_all('tr')[1:]:  # Skip the first header row\n",
    "        row_data = [table_cell.text.strip() for table_cell in table_row.find_all('td')]\n",
    "        if len(row_data) == 5:  # Ensure it's a large cardamom row\n",
    "            large_cardamom_data.append(row_data)\n",
    "\n",
    "    # Write data to CSV file for large cardamom\n",
    "    with open('large_cardamom_prices.csv', 'w', newline='') as csvfile:\n",
    "        csv_writer = csv.writer(csvfile)\n",
    "        # csv_writer.writerow([\"Sno\", \"Date of Auction\", \"Market\", \"Type\", \"Price (Rs./Kg)\"])\n",
    "        for index, row in enumerate(large_cardamom_data, start=1):\n",
    "            csv_writer.writerow(row)\n",
    "\n",
    "    print('Large cardamom data scraped successfully and saved to large_cardamom_prices.csv')\n",
    "\n",
    "    # Extract table data for small cardamom\n",
    "    small_cardamom_data = []\n",
    "    for table_row in soup.find_all('tr')[1:]:  # Skip the first header row\n",
    "        row_data = [table_cell.text.strip() for table_cell in table_row.find_all('td')]\n",
    "        if len(row_data) == 8:  # Ensure it's a small cardamom row\n",
    "            small_cardamom_data.append(row_data)\n",
    "\n",
    "    # Write data to CSV file for small cardamom\n",
    "    with open('small_cardamom_prices.csv', 'w', newline='') as csvfile:\n",
    "        csv_writer = csv.writer(csvfile)\n",
    "        for index, row in enumerate(small_cardamom_data, start=1):\n",
    "            csv_writer.writerow(row)\n",
    "        \n",
    "\n",
    "    print('Small cardamom data scraped successfully and saved to small_cardamom_prices.csv')\n",
    "\n",
    "else:\n",
    "    print('Error fetching data from URL. Status code:', response.status_code)\n"
   ]
  }
 ],
 "metadata": {
  "kernelspec": {
   "display_name": "Python 3",
   "language": "python",
   "name": "python3"
  },
  "language_info": {
   "codemirror_mode": {
    "name": "ipython",
    "version": 3
   },
   "file_extension": ".py",
   "mimetype": "text/x-python",
   "name": "python",
   "nbconvert_exporter": "python",
   "pygments_lexer": "ipython3",
   "version": "3.11.3"
  }
 },
 "nbformat": 4,
 "nbformat_minor": 2
}
